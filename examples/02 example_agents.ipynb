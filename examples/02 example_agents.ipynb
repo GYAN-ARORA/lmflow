{
 "cells": [
  {
   "cell_type": "code",
   "execution_count": 1,
   "id": "763c242f-058a-4d7c-8dc1-c9e797d1fffc",
   "metadata": {},
   "outputs": [
    {
     "name": "stdout",
     "output_type": "stream",
     "text": [
      "/Users/gyanarora/Desktop/Work/GenAI/lmflow\n"
     ]
    }
   ],
   "source": [
    "cd .."
   ]
  },
  {
   "cell_type": "code",
   "execution_count": 2,
   "id": "a328b36a-8245-47b8-be79-4c640285fca7",
   "metadata": {},
   "outputs": [],
   "source": [
    "import os\n",
    "import json\n",
    "from lmflow.lm import GroqChatLM\n",
    "from lmflow.base import lmtool, ChatLM\n",
    "\n",
    "key = json.load(open(\"rough/keys.json\"))['groq']"
   ]
  },
  {
   "cell_type": "code",
   "execution_count": 3,
   "id": "d034d950-dc54-4f80-8b6e-1f83ba09d21d",
   "metadata": {},
   "outputs": [],
   "source": [
    "import pathlib\n",
    "from datetime import datetime\n",
    "\n",
    "@lmtool()\n",
    "def get_current_time():\n",
    "    '''Returns the current date and time of the local system'''\n",
    "    return datetime.now().strftime(\"Date: %m-%d-%Y, Time: %H:%M:%S\")\n",
    "\n",
    "@lmtool()\n",
    "def get_day(date):\n",
    "    '''Returns the calendar day at the given date\n",
    "    param: date (str)\n",
    "    '''\n",
    "    map_dict = {0: 'Monday', 1:'Tuesday', 2:'Wednesday', 3:'Thursday', 4:'Friday', 5:'Saturday', 6:'Sunday'}\n",
    "    return f'{date} was a ' + map_dict[datetime.strptime('11-24-2024', '%m-%d-%Y').weekday()]\n",
    "\n",
    "@lmtool()\n",
    "def get_file_size(file_path):\n",
    "    '''Returns the size of the file at the given path\n",
    "\n",
    "     # Parameters:\n",
    "    file_path (str): path of the file\n",
    "\n",
    "    # Returns:\n",
    "    size (int): size of the file at file_path in bytes\n",
    "    '''\n",
    "    return f'The size of the file at path {file_path} is {os.path.getsize(file_path)} bytes'\n",
    "\n",
    "@lmtool(human=True, dont_infer=True)\n",
    "def delete_file(file_path):\n",
    "    '''deletes the file at the given file path\n",
    "    param: file_path\n",
    "    '''\n",
    "    os.remove(file_path)\n",
    "    return f'Deleted file {file_path}'\n",
    "\n",
    "\n",
    "@lmtool()\n",
    "def list_files():\n",
    "    '''lists files in current directory'''\n",
    "    return '\\n'.join(os.listdir())\n",
    "\n",
    "\n",
    "@lmtool(dont_infer=True)\n",
    "def login():\n",
    "    '''Logs in to the file system to enable file operations'''\n",
    "    return 'Login Successfull'\n",
    "\n",
    "@lmtool(dont_infer=True)\n",
    "def change_directory(dir):\n",
    "    '''changes directory to the given path\n",
    "    param: dir\n",
    "    '''\n",
    "    os.chdir(dir)\n",
    "    return 'Changed to ' + dir\n",
    "\n",
    "@lmtool()\n",
    "def get_current_directory():\n",
    "    '''Returns the path to current directory'''\n",
    "    return os.getcwd()"
   ]
  },
  {
   "cell_type": "code",
   "execution_count": 4,
   "id": "08e6eafb-9aa9-45fe-805b-c516fab8564f",
   "metadata": {},
   "outputs": [],
   "source": [
    "local_timekeeper = GroqChatLM(key, model='llama3-70b-8192', max_tokens=1024, temperature=0.1, name='timekeeper')\n",
    "local_timekeeper.set_specialisation(\"This agent specialises in information about current date and time\")\n",
    "local_timekeeper.add_tools([get_current_time, get_day])\n",
    "\n",
    "file_operator_agent = GroqChatLM(key, model='llama3-70b-8192', max_tokens=1024, temperature=0.1, name='file_operator_agent')\n",
    "file_operator_agent.set_specialisation(\"This agent specialises in all modifying and getting details about infividual files\")\n",
    "file_operator_agent.add_tools([get_file_size, delete_file])\n",
    "\n",
    "file_system_agent = GroqChatLM(key, model='llama3-70b-8192', max_tokens=1024,temperature=0.1, name='file_explorer_agent')\n",
    "file_system_agent.set_specialisation(\"This agent specialises in exploring and navigating local directory\")\n",
    "file_system_agent.add_tools([list_files, change_directory, get_current_directory])\n",
    "file_system_agent.add_agents(file_operator_agent)\n",
    "\n",
    "supervisor = GroqChatLM(key, model='llama3-70b-8192', max_tokens=1024, temperature=0.1, name='supervisor')\n",
    "supervisor.add_tools(login)\n",
    "supervisor.add_agents([local_timekeeper, file_system_agent])"
   ]
  },
  {
   "cell_type": "code",
   "execution_count": 5,
   "id": "fbdbb8a5-603c-40fa-968c-adee16f5bae2",
   "metadata": {},
   "outputs": [
    {
     "name": "stdout",
     "output_type": "stream",
     "text": [
      "Task Completed!\n",
      "Login Successfull\n"
     ]
    }
   ],
   "source": [
    "print(supervisor.reply('Login to my file system'))"
   ]
  },
  {
   "cell_type": "code",
   "execution_count": 6,
   "id": "154497c1-018f-457e-aee8-c0a9d2857c15",
   "metadata": {},
   "outputs": [
    {
     "name": "stdout",
     "output_type": "stream",
     "text": [
      "\u001b[95mTransfering conversation to agent: \"file_explorer_agent\"\u001b[0m\n",
      "Here is the list of files in your current directory:\n",
      "\n",
      "1. lmflow.png\n",
      "2. .DS_Store\n",
      "3. LICENSE\n",
      "4. lmflow\n",
      "5. output\n",
      "6. rough\n",
      "7. README.md\n",
      "8. setup.py\n",
      "9. .gitignore\n",
      "10. examples\n",
      "11. .ipynb_checkpoints\n",
      "12. .git\n",
      "13. .vscode\n"
     ]
    }
   ],
   "source": [
    "print(supervisor.reply('List files in my current directory'))"
   ]
  },
  {
   "cell_type": "code",
   "execution_count": 7,
   "id": "45eb3dc2-0cc5-41e0-9a80-a89aa2618c8e",
   "metadata": {},
   "outputs": [
    {
     "name": "stdout",
     "output_type": "stream",
     "text": [
      "Yes, your current directory has a README file.\n"
     ]
    }
   ],
   "source": [
    "print(supervisor.reply('Does my current directory have a README file?'))"
   ]
  },
  {
   "cell_type": "code",
   "execution_count": 8,
   "id": "9c7f279d-2ecd-4fcc-aed6-9e0ead3c16ad",
   "metadata": {},
   "outputs": [
    {
     "name": "stdout",
     "output_type": "stream",
     "text": [
      "Task Completed!\n",
      "Changed to output\n"
     ]
    }
   ],
   "source": [
    "print(supervisor.reply('Change directory to output and list files')) # Does not handle sequence of tasks yet"
   ]
  },
  {
   "cell_type": "code",
   "execution_count": 14,
   "id": "27bee333-eaf8-4c90-9aab-7ac841a75801",
   "metadata": {},
   "outputs": [
    {
     "name": "stdout",
     "output_type": "stream",
     "text": [
      "Here is the list of files in your current directory:\n",
      "\n",
      "1. output_18-11-2024.csv\n",
      "2. output_04-11-2024.csv\n",
      "3. output_11-11-2024.csv\n",
      "4. output_28-10-2024.csv\n",
      "5. .ipynb_checkpoints\n"
     ]
    }
   ],
   "source": [
    "print(supervisor.reply('now list files'))"
   ]
  },
  {
   "cell_type": "code",
   "execution_count": 15,
   "id": "d734b9be-22d2-4b2f-8d51-12012fe77626",
   "metadata": {},
   "outputs": [
    {
     "name": "stdout",
     "output_type": "stream",
     "text": [
      "\u001b[95mTransfering conversation to agent: \"file_operator_agent\"\u001b[0m\n",
      "The size of output_28-10-2024.csv is 0 bytes.\n"
     ]
    }
   ],
   "source": [
    "print(supervisor.reply(\"what is the size of output_28-10-2024.csv in this directory\"))"
   ]
  },
  {
   "cell_type": "code",
   "execution_count": 16,
   "id": "2d44ea4a-8c7e-4f32-a241-15530beaf741",
   "metadata": {},
   "outputs": [
    {
     "name": "stdin",
     "output_type": "stream",
     "text": [
      "Please confirm the following action (Y/N): delete_file ('output_28-10-2024.csv',) {} n\n"
     ]
    },
    {
     "name": "stdout",
     "output_type": "stream",
     "text": [
      "Task Completed!\n",
      "Task cancelled by user\n"
     ]
    }
   ],
   "source": [
    "print(supervisor.reply(\"delete file ending with 28-10-2024.csv\"))"
   ]
  },
  {
   "cell_type": "code",
   "execution_count": 17,
   "id": "94c2261f-2cca-44b6-88a3-b978fb4d6237",
   "metadata": {},
   "outputs": [
    {
     "name": "stdout",
     "output_type": "stream",
     "text": [
      "\u001b[95mTransfering conversation back to agent: \"file_explorer_agent\"\u001b[0m\n",
      "\u001b[95mTransfering conversation back to agent: \"supervisor\"\u001b[0m\n",
      "\u001b[95mTransfering conversation to agent: \"timekeeper\"\u001b[0m\n",
      "The date is 11-24-2024.\n"
     ]
    }
   ],
   "source": [
    "print(supervisor.reply(\"What date is it?\"))"
   ]
  },
  {
   "cell_type": "code",
   "execution_count": 18,
   "id": "d6d8b5cf-abeb-47cc-9fb3-f0319e52efd1",
   "metadata": {},
   "outputs": [
    {
     "name": "stdout",
     "output_type": "stream",
     "text": [
      "Today is Sunday.\n"
     ]
    }
   ],
   "source": [
    "print(supervisor.reply(\"And what day is this?\"))"
   ]
  },
  {
   "cell_type": "code",
   "execution_count": null,
   "id": "260d66a6-0bbf-4cd2-b3af-2a315eaf90ab",
   "metadata": {},
   "outputs": [],
   "source": []
  }
 ],
 "metadata": {
  "kernelspec": {
   "display_name": "Python 3 (ipykernel)",
   "language": "python",
   "name": "python3"
  },
  "language_info": {
   "codemirror_mode": {
    "name": "ipython",
    "version": 3
   },
   "file_extension": ".py",
   "mimetype": "text/x-python",
   "name": "python",
   "nbconvert_exporter": "python",
   "pygments_lexer": "ipython3",
   "version": "3.9.17"
  }
 },
 "nbformat": 4,
 "nbformat_minor": 5
}
