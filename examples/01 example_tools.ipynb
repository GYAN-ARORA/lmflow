{
 "cells": [
  {
   "cell_type": "code",
   "execution_count": 1,
   "id": "649b2d2f-4874-4921-9983-e59e61c9e62b",
   "metadata": {},
   "outputs": [
    {
     "name": "stdout",
     "output_type": "stream",
     "text": [
      "/Users/gyanarora/Desktop/Work/GenAI/lmflow\n"
     ]
    }
   ],
   "source": [
    "cd .."
   ]
  },
  {
   "cell_type": "code",
   "execution_count": 6,
   "id": "b830aa1c-a023-4d25-b914-39214568fde9",
   "metadata": {},
   "outputs": [],
   "source": [
    "import os\n",
    "import json\n",
    "\n",
    "key = json.load(open(\"rough/keys.json\"))['groq']"
   ]
  },
  {
   "cell_type": "code",
   "execution_count": 3,
   "id": "03279915-6b42-40a2-9de8-f00ab410690c",
   "metadata": {},
   "outputs": [],
   "source": [
    "from lmflow.base import lmtool, ChatLM\n",
    "from lmflow.lm import GroqChatLM\n",
    "\n",
    "@lmtool()\n",
    "def list_files():\n",
    "    '''lists files in current directory'''\n",
    "    return '\\n'.join(os.listdir())"
   ]
  },
  {
   "cell_type": "code",
   "execution_count": 4,
   "id": "037a0736-5cc4-48d0-88cc-0f839b465691",
   "metadata": {},
   "outputs": [],
   "source": [
    "lm = GroqChatLM(key, model='llama3-70b-8192', max_tokens=1024)\n",
    "print(lm.reply('Please list the files in my current directory?'))"
   ]
  },
  {
   "cell_type": "code",
   "execution_count": 7,
   "id": "111049df-2d51-41f2-b03f-7f2d75a3c5d1",
   "metadata": {},
   "outputs": [
    {
     "name": "stdout",
     "output_type": "stream",
     "text": [
      "Yes, your current directory has a README file named \"README.md\".\n"
     ]
    }
   ],
   "source": [
    "# Add the list_files tool and ask for complex task - uses tool and thens use its output to reply\n",
    "lm.add_tools([list_files])\n",
    "print(lm.reply('Does my current directory have a README file?'))"
   ]
  },
  {
   "cell_type": "markdown",
   "id": "f4d51d3a-7e06-41cf-a18f-ade91f395fc4",
   "metadata": {},
   "source": [
    "- `human=True` introduces a confirmation before the tool (task) is executed. (default=False)\n",
    "- `dont_infer=True` should be set to True if the LLM does not need to consume the output of the tool and create a final answer (default=False)"
   ]
  },
  {
   "cell_type": "code",
   "execution_count": 8,
   "id": "fb4cea0f-dfe0-4a71-bef7-031979258ba4",
   "metadata": {},
   "outputs": [],
   "source": [
    "@lmtool(human=True, dont_infer=True)\n",
    "def delete_file(file_path):\n",
    "    '''deletes the file at given file path\n",
    "    param: file_path\n",
    "    '''\n",
    "    os.remove(file_path)\n",
    "    return f'Deleted file {file_path}'"
   ]
  },
  {
   "cell_type": "code",
   "execution_count": 9,
   "id": "78c8a771-8887-4a15-90f7-5224dbc5a83d",
   "metadata": {},
   "outputs": [
    {
     "name": "stdin",
     "output_type": "stream",
     "text": [
      "Please confirm the following action (Y/N): delete_file ('temp.txt',) {} y\n"
     ]
    },
    {
     "name": "stdout",
     "output_type": "stream",
     "text": [
      "Task Completed!\n",
      "Deleted file temp.txt\n"
     ]
    }
   ],
   "source": [
    "lm.add_tools(delete_file)\n",
    "print(lm.reply('Delete the temp.txt file'))"
   ]
  },
  {
   "cell_type": "code",
   "execution_count": 10,
   "id": "6cfa22fa-1167-4f83-90bf-cf98c79ed11e",
   "metadata": {},
   "outputs": [
    {
     "name": "stdin",
     "output_type": "stream",
     "text": [
      "Please confirm the following action (Y/N): delete_file ('temp.txt',) {} n\n"
     ]
    },
    {
     "name": "stdout",
     "output_type": "stream",
     "text": [
      "Task Completed!\n",
      "Task cancelled by user\n"
     ]
    }
   ],
   "source": [
    "print(lm.reply('Which file did we just delete ?'))  # So stupid"
   ]
  }
 ],
 "metadata": {
  "kernelspec": {
   "display_name": "Python 3 (ipykernel)",
   "language": "python",
   "name": "python3"
  },
  "language_info": {
   "codemirror_mode": {
    "name": "ipython",
    "version": 3
   },
   "file_extension": ".py",
   "mimetype": "text/x-python",
   "name": "python",
   "nbconvert_exporter": "python",
   "pygments_lexer": "ipython3",
   "version": "3.9.17"
  }
 },
 "nbformat": 4,
 "nbformat_minor": 5
}
